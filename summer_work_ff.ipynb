{
  "nbformat": 4,
  "nbformat_minor": 0,
  "metadata": {
    "kernelspec": {
      "display_name": "Python 3",
      "language": "python",
      "name": "python3"
    },
    "language_info": {
      "codemirror_mode": {
        "name": "ipython",
        "version": 3
      },
      "file_extension": ".py",
      "mimetype": "text/x-python",
      "name": "python",
      "nbconvert_exporter": "python",
      "pygments_lexer": "ipython3",
      "version": "3.8.3"
    },
    "colab": {
      "name": "summer work ff.ipynb",
      "provenance": [],
      "collapsed_sections": [],
      "include_colab_link": true
    },
    "widgets": {
      "application/vnd.jupyter.widget-state+json": {
        "badf79943b854bfba62a976d1fde64eb": {
          "model_module": "@jupyter-widgets/controls",
          "model_name": "HBoxModel",
          "model_module_version": "1.5.0",
          "state": {
            "_view_name": "HBoxView",
            "_dom_classes": [],
            "_model_name": "HBoxModel",
            "_view_module": "@jupyter-widgets/controls",
            "_model_module_version": "1.5.0",
            "_view_count": null,
            "_view_module_version": "1.5.0",
            "box_style": "",
            "layout": "IPY_MODEL_ea9ed6ffd73e4995a2aebab9d4159b4d",
            "_model_module": "@jupyter-widgets/controls",
            "children": [
              "IPY_MODEL_3853e7fa678340ea8148c233b5d48519",
              "IPY_MODEL_ab3e9fcf1919442a80f1729a623b1990",
              "IPY_MODEL_2544ca596f2547c5b935cd6de4f7042d"
            ]
          }
        },
        "ea9ed6ffd73e4995a2aebab9d4159b4d": {
          "model_module": "@jupyter-widgets/base",
          "model_name": "LayoutModel",
          "model_module_version": "1.2.0",
          "state": {
            "_view_name": "LayoutView",
            "grid_template_rows": null,
            "right": null,
            "justify_content": null,
            "_view_module": "@jupyter-widgets/base",
            "overflow": null,
            "_model_module_version": "1.2.0",
            "_view_count": null,
            "flex_flow": null,
            "width": null,
            "min_width": null,
            "border": null,
            "align_items": null,
            "bottom": null,
            "_model_module": "@jupyter-widgets/base",
            "top": null,
            "grid_column": null,
            "overflow_y": null,
            "overflow_x": null,
            "grid_auto_flow": null,
            "grid_area": null,
            "grid_template_columns": null,
            "flex": null,
            "_model_name": "LayoutModel",
            "justify_items": null,
            "grid_row": null,
            "max_height": null,
            "align_content": null,
            "visibility": null,
            "align_self": null,
            "height": null,
            "min_height": null,
            "padding": null,
            "grid_auto_rows": null,
            "grid_gap": null,
            "max_width": null,
            "order": null,
            "_view_module_version": "1.2.0",
            "grid_template_areas": null,
            "object_position": null,
            "object_fit": null,
            "grid_auto_columns": null,
            "margin": null,
            "display": null,
            "left": null
          }
        },
        "3853e7fa678340ea8148c233b5d48519": {
          "model_module": "@jupyter-widgets/controls",
          "model_name": "HTMLModel",
          "model_module_version": "1.5.0",
          "state": {
            "_view_name": "HTMLView",
            "style": "IPY_MODEL_e604ce80e6d84378b85e75c4bb7c4143",
            "_dom_classes": [],
            "description": "",
            "_model_name": "HTMLModel",
            "placeholder": "​",
            "_view_module": "@jupyter-widgets/controls",
            "_model_module_version": "1.5.0",
            "value": "",
            "_view_count": null,
            "_view_module_version": "1.5.0",
            "description_tooltip": null,
            "_model_module": "@jupyter-widgets/controls",
            "layout": "IPY_MODEL_e39a7cf291674c5fa4a8a3c363949fe4"
          }
        },
        "ab3e9fcf1919442a80f1729a623b1990": {
          "model_module": "@jupyter-widgets/controls",
          "model_name": "FloatProgressModel",
          "model_module_version": "1.5.0",
          "state": {
            "_view_name": "ProgressView",
            "style": "IPY_MODEL_e7c118e200f4483b885ad9f93d6adb72",
            "_dom_classes": [],
            "description": "",
            "_model_name": "FloatProgressModel",
            "bar_style": "success",
            "max": 170498071,
            "_view_module": "@jupyter-widgets/controls",
            "_model_module_version": "1.5.0",
            "value": 170498071,
            "_view_count": null,
            "_view_module_version": "1.5.0",
            "orientation": "horizontal",
            "min": 0,
            "description_tooltip": null,
            "_model_module": "@jupyter-widgets/controls",
            "layout": "IPY_MODEL_714f5f138dd340b98c4522c47264e2f9"
          }
        },
        "2544ca596f2547c5b935cd6de4f7042d": {
          "model_module": "@jupyter-widgets/controls",
          "model_name": "HTMLModel",
          "model_module_version": "1.5.0",
          "state": {
            "_view_name": "HTMLView",
            "style": "IPY_MODEL_35625e8836bb42df9b25f31908c8dfde",
            "_dom_classes": [],
            "description": "",
            "_model_name": "HTMLModel",
            "placeholder": "​",
            "_view_module": "@jupyter-widgets/controls",
            "_model_module_version": "1.5.0",
            "value": " 170499072/? [00:04&lt;00:00, 57302550.94it/s]",
            "_view_count": null,
            "_view_module_version": "1.5.0",
            "description_tooltip": null,
            "_model_module": "@jupyter-widgets/controls",
            "layout": "IPY_MODEL_6dfc2918281e43f2a4cb1d979f788998"
          }
        },
        "e604ce80e6d84378b85e75c4bb7c4143": {
          "model_module": "@jupyter-widgets/controls",
          "model_name": "DescriptionStyleModel",
          "model_module_version": "1.5.0",
          "state": {
            "_view_name": "StyleView",
            "_model_name": "DescriptionStyleModel",
            "description_width": "",
            "_view_module": "@jupyter-widgets/base",
            "_model_module_version": "1.5.0",
            "_view_count": null,
            "_view_module_version": "1.2.0",
            "_model_module": "@jupyter-widgets/controls"
          }
        },
        "e39a7cf291674c5fa4a8a3c363949fe4": {
          "model_module": "@jupyter-widgets/base",
          "model_name": "LayoutModel",
          "model_module_version": "1.2.0",
          "state": {
            "_view_name": "LayoutView",
            "grid_template_rows": null,
            "right": null,
            "justify_content": null,
            "_view_module": "@jupyter-widgets/base",
            "overflow": null,
            "_model_module_version": "1.2.0",
            "_view_count": null,
            "flex_flow": null,
            "width": null,
            "min_width": null,
            "border": null,
            "align_items": null,
            "bottom": null,
            "_model_module": "@jupyter-widgets/base",
            "top": null,
            "grid_column": null,
            "overflow_y": null,
            "overflow_x": null,
            "grid_auto_flow": null,
            "grid_area": null,
            "grid_template_columns": null,
            "flex": null,
            "_model_name": "LayoutModel",
            "justify_items": null,
            "grid_row": null,
            "max_height": null,
            "align_content": null,
            "visibility": null,
            "align_self": null,
            "height": null,
            "min_height": null,
            "padding": null,
            "grid_auto_rows": null,
            "grid_gap": null,
            "max_width": null,
            "order": null,
            "_view_module_version": "1.2.0",
            "grid_template_areas": null,
            "object_position": null,
            "object_fit": null,
            "grid_auto_columns": null,
            "margin": null,
            "display": null,
            "left": null
          }
        },
        "e7c118e200f4483b885ad9f93d6adb72": {
          "model_module": "@jupyter-widgets/controls",
          "model_name": "ProgressStyleModel",
          "model_module_version": "1.5.0",
          "state": {
            "_view_name": "StyleView",
            "_model_name": "ProgressStyleModel",
            "description_width": "",
            "_view_module": "@jupyter-widgets/base",
            "_model_module_version": "1.5.0",
            "_view_count": null,
            "_view_module_version": "1.2.0",
            "bar_color": null,
            "_model_module": "@jupyter-widgets/controls"
          }
        },
        "714f5f138dd340b98c4522c47264e2f9": {
          "model_module": "@jupyter-widgets/base",
          "model_name": "LayoutModel",
          "model_module_version": "1.2.0",
          "state": {
            "_view_name": "LayoutView",
            "grid_template_rows": null,
            "right": null,
            "justify_content": null,
            "_view_module": "@jupyter-widgets/base",
            "overflow": null,
            "_model_module_version": "1.2.0",
            "_view_count": null,
            "flex_flow": null,
            "width": null,
            "min_width": null,
            "border": null,
            "align_items": null,
            "bottom": null,
            "_model_module": "@jupyter-widgets/base",
            "top": null,
            "grid_column": null,
            "overflow_y": null,
            "overflow_x": null,
            "grid_auto_flow": null,
            "grid_area": null,
            "grid_template_columns": null,
            "flex": null,
            "_model_name": "LayoutModel",
            "justify_items": null,
            "grid_row": null,
            "max_height": null,
            "align_content": null,
            "visibility": null,
            "align_self": null,
            "height": null,
            "min_height": null,
            "padding": null,
            "grid_auto_rows": null,
            "grid_gap": null,
            "max_width": null,
            "order": null,
            "_view_module_version": "1.2.0",
            "grid_template_areas": null,
            "object_position": null,
            "object_fit": null,
            "grid_auto_columns": null,
            "margin": null,
            "display": null,
            "left": null
          }
        },
        "35625e8836bb42df9b25f31908c8dfde": {
          "model_module": "@jupyter-widgets/controls",
          "model_name": "DescriptionStyleModel",
          "model_module_version": "1.5.0",
          "state": {
            "_view_name": "StyleView",
            "_model_name": "DescriptionStyleModel",
            "description_width": "",
            "_view_module": "@jupyter-widgets/base",
            "_model_module_version": "1.5.0",
            "_view_count": null,
            "_view_module_version": "1.2.0",
            "_model_module": "@jupyter-widgets/controls"
          }
        },
        "6dfc2918281e43f2a4cb1d979f788998": {
          "model_module": "@jupyter-widgets/base",
          "model_name": "LayoutModel",
          "model_module_version": "1.2.0",
          "state": {
            "_view_name": "LayoutView",
            "grid_template_rows": null,
            "right": null,
            "justify_content": null,
            "_view_module": "@jupyter-widgets/base",
            "overflow": null,
            "_model_module_version": "1.2.0",
            "_view_count": null,
            "flex_flow": null,
            "width": null,
            "min_width": null,
            "border": null,
            "align_items": null,
            "bottom": null,
            "_model_module": "@jupyter-widgets/base",
            "top": null,
            "grid_column": null,
            "overflow_y": null,
            "overflow_x": null,
            "grid_auto_flow": null,
            "grid_area": null,
            "grid_template_columns": null,
            "flex": null,
            "_model_name": "LayoutModel",
            "justify_items": null,
            "grid_row": null,
            "max_height": null,
            "align_content": null,
            "visibility": null,
            "align_self": null,
            "height": null,
            "min_height": null,
            "padding": null,
            "grid_auto_rows": null,
            "grid_gap": null,
            "max_width": null,
            "order": null,
            "_view_module_version": "1.2.0",
            "grid_template_areas": null,
            "object_position": null,
            "object_fit": null,
            "grid_auto_columns": null,
            "margin": null,
            "display": null,
            "left": null
          }
        }
      }
    }
  },
  "cells": [
    {
      "cell_type": "markdown",
      "metadata": {
        "id": "view-in-github",
        "colab_type": "text"
      },
      "source": [
        "<a href=\"https://colab.research.google.com/github/budaoweng98/-/blob/main/summer_work_ff.ipynb\" target=\"_parent\"><img src=\"https://colab.research.google.com/assets/colab-badge.svg\" alt=\"Open In Colab\"/></a>"
      ]
    },
    {
      "cell_type": "code",
      "metadata": {
        "colab": {
          "base_uri": "https://localhost:8080/"
        },
        "id": "M_l4b_a4Soj5",
        "outputId": "95476aae-d672-4bad-a78a-2b0bfda5e30b"
      },
      "source": [
        "#导入库#\n",
        "import torch\n",
        "import torch.nn as nn\n",
        "import torch.optim as optim\n",
        "import torch.nn.functional as F\n",
        "from torchvision import datasets\n",
        "import torchvision.transforms as transforms\n",
        "from torch.utils.data import sampler\n",
        "\n",
        "to_float = torch.float\n",
        "to_long = torch.long\n",
        "\n",
        "if torch.cuda.is_available():\n",
        "  device = torch.device('cuda')\n",
        "else:\n",
        "  device = torch.device('cpu')\n",
        "print(device)"
      ],
      "execution_count": null,
      "outputs": [
        {
          "output_type": "stream",
          "name": "stdout",
          "text": [
            "cpu\n"
          ]
        }
      ]
    },
    {
      "cell_type": "code",
      "metadata": {
        "colab": {
          "base_uri": "https://localhost:8080/",
          "height": 101,
          "referenced_widgets": [
            "badf79943b854bfba62a976d1fde64eb",
            "ea9ed6ffd73e4995a2aebab9d4159b4d",
            "3853e7fa678340ea8148c233b5d48519",
            "ab3e9fcf1919442a80f1729a623b1990",
            "2544ca596f2547c5b935cd6de4f7042d",
            "e604ce80e6d84378b85e75c4bb7c4143",
            "e39a7cf291674c5fa4a8a3c363949fe4",
            "e7c118e200f4483b885ad9f93d6adb72",
            "714f5f138dd340b98c4522c47264e2f9",
            "35625e8836bb42df9b25f31908c8dfde",
            "6dfc2918281e43f2a4cb1d979f788998"
          ]
        },
        "id": "opRZvAVTSoj9",
        "outputId": "85517741-c8f6-41d2-959b-1febcfbb9440"
      },
      "source": [
        "batch_size = 64\n",
        "\n",
        "transform = transforms.Compose([\n",
        "    transforms.ToTensor(),\n",
        "    transforms.Normalize(mean=[0.5], std=[0.5])#归一#\n",
        "    ])\n",
        "\n",
        "train_data = datasets.CIFAR10('data', train=True,\n",
        "                              download=True, transform=transform)\n",
        "test_data = datasets.CIFAR10('data', train=False,\n",
        "                             download=True, transform=transform)\n",
        "\n",
        "NUM_TRAIN = 49000\n",
        "train_loader = torch.utils.data.DataLoader(train_data, batch_size=batch_size,\n",
        "    sampler=sampler.SubsetRandomSampler(range(NUM_TRAIN)))\n",
        "valid_loader = torch.utils.data.DataLoader(train_data, batch_size=batch_size, \n",
        "    sampler=sampler.SubsetRandomSampler(range(NUM_TRAIN, 50000)))\n",
        "test_loader = torch.utils.data.DataLoader(test_data, batch_size=batch_size)"
      ],
      "execution_count": null,
      "outputs": [
        {
          "output_type": "stream",
          "name": "stdout",
          "text": [
            "Downloading https://www.cs.toronto.edu/~kriz/cifar-10-python.tar.gz to data/cifar-10-python.tar.gz\n"
          ]
        },
        {
          "output_type": "display_data",
          "data": {
            "application/vnd.jupyter.widget-view+json": {
              "model_id": "badf79943b854bfba62a976d1fde64eb",
              "version_minor": 0,
              "version_major": 2
            },
            "text/plain": [
              "  0%|          | 0/170498071 [00:00<?, ?it/s]"
            ]
          },
          "metadata": {}
        },
        {
          "output_type": "stream",
          "name": "stdout",
          "text": [
            "Extracting data/cifar-10-python.tar.gz to data\n",
            "Files already downloaded and verified\n"
          ]
        }
      ]
    },
    {
      "cell_type": "code",
      "metadata": {
        "id": "GBqolCtz1sk4",
        "colab": {
          "base_uri": "https://localhost:8080/"
        },
        "outputId": "14a479b8-33bb-4125-d786-b2787f7c4978"
      },
      "source": [
        "class Net(nn.Module):\n",
        "    def __init__(self):\n",
        "        super().__init__()\n",
        "        \n",
        "        self.net = nn.Sequential(\n",
        "            nn.Conv2d(3, 6, 5),\n",
        "            nn.BatchNorm2d(6),\n",
        "            nn.ReLU(),\n",
        "            nn.MaxPool2d(2, 2),\n",
        "            \n",
        "            nn.Conv2d(6, 16, 5),\n",
        "            nn.BatchNorm2d(16),\n",
        "            nn.ReLU(),\n",
        "            nn.MaxPool2d(2, 2),\n",
        "            \n",
        "            nn.Conv2d(16, 32, 3),\n",
        "            nn.ReLU(),\n",
        "            nn.MaxPool2d(2, 2),\n",
        "            \n",
        "            nn.Flatten(),\n",
        "            nn.Linear(1*1*32, 16),\n",
        "            nn.ReLU(),\n",
        "            \n",
        "            nn.Linear(16, 6),\n",
        "        )\n",
        "        \n",
        "    def forward(self, x):\n",
        "        return self.net(x)\n",
        "model = Net()\n",
        "print(model)\n",
        "optimizer = optim.SGD(model.parameters(), lr=0.01)"
      ],
      "execution_count": null,
      "outputs": [
        {
          "output_type": "stream",
          "name": "stdout",
          "text": [
            "Net(\n",
            "  (net): Sequential(\n",
            "    (0): Conv2d(3, 6, kernel_size=(5, 5), stride=(1, 1))\n",
            "    (1): BatchNorm2d(6, eps=1e-05, momentum=0.1, affine=True, track_running_stats=True)\n",
            "    (2): ReLU()\n",
            "    (3): MaxPool2d(kernel_size=2, stride=2, padding=0, dilation=1, ceil_mode=False)\n",
            "    (4): Conv2d(6, 16, kernel_size=(5, 5), stride=(1, 1))\n",
            "    (5): BatchNorm2d(16, eps=1e-05, momentum=0.1, affine=True, track_running_stats=True)\n",
            "    (6): ReLU()\n",
            "    (7): MaxPool2d(kernel_size=2, stride=2, padding=0, dilation=1, ceil_mode=False)\n",
            "    (8): Conv2d(16, 32, kernel_size=(3, 3), stride=(1, 1))\n",
            "    (9): ReLU()\n",
            "    (10): MaxPool2d(kernel_size=2, stride=2, padding=0, dilation=1, ceil_mode=False)\n",
            "    (11): Flatten(start_dim=1, end_dim=-1)\n",
            "    (12): Linear(in_features=32, out_features=16, bias=True)\n",
            "    (13): ReLU()\n",
            "    (14): Linear(in_features=16, out_features=6, bias=True)\n",
            "  )\n",
            ")\n"
          ]
        }
      ]
    },
    {
      "cell_type": "code",
      "metadata": {
        "id": "sqbrcCH6SokC"
      },
      "source": [
        "def check_accuracy_part34(loader, model):\n",
        "  num_correct = 0\n",
        "  num_samples = 0\n",
        "  model.eval()  \n",
        "  with torch.no_grad():\n",
        "    for x, y in loader:\n",
        "      x = x.to(device=device, dtype=to_float) \n",
        "      y = y.to(device=device, dtype=to_long).clamp(max=5)\n",
        "      scores = model(x)\n",
        "      _, preds = scores.max(1)\n",
        "      num_correct += (preds == y).sum()\n",
        "      num_samples += preds.size(0)\n",
        "    acc = float(num_correct) / num_samples\n",
        "    print('Got %d / %d correct (%.2f)' % (num_correct, num_samples, 100 * acc))\n",
        "  return acc"
      ],
      "execution_count": null,
      "outputs": []
    },
    {
      "cell_type": "code",
      "metadata": {
        "colab": {
          "base_uri": "https://localhost:8080/"
        },
        "id": "VeYHZlmISokF",
        "outputId": "6b89f281-39bb-4007-f2c9-01e72161034f"
      },
      "source": [
        "epochs = 5\n",
        "num_prints = epochs * len(train_loader) // 100 + 1\n",
        "acc_history = torch.zeros(num_prints, dtype=to_float)\n",
        "iter_history = torch.zeros(num_prints, dtype=to_long)\n",
        "model = model.to(device=device)\n",
        "for epoch in range(epochs):\n",
        "    for t, (x, y) in enumerate(train_loader):\n",
        "        model.train()\n",
        "        x = x.to(device=device, dtype=to_float)\n",
        "        y = y.to(device=device, dtype=to_long).clamp(max=5)\n",
        "        \n",
        "        scores = model(x)\n",
        "        loss = F.cross_entropy(scores, y)\n",
        "        \n",
        "        optimizer.zero_grad()\n",
        "        \n",
        "        loss.backward()\n",
        "        \n",
        "        optimizer.step()\n",
        "        \n",
        "        tt = t + epoch * len(train_loader)\n",
        "        \n",
        "        if tt % 100 == 0 or (epoch == epochs - 1 and t == len(train_loader) - 1):\n",
        "            print(\"Epoch: %d, Iteration: %d, loss = %.4f\" %(epoch, tt, loss.item()))\n",
        "            acc = check_accuracy_part34(valid_loader, model)\n",
        "            acc_history[tt // 100] = acc\n",
        "            iter_history[tt // 100] = tt\n",
        "            print()"
      ],
      "execution_count": null,
      "outputs": [
        {
          "output_type": "stream",
          "name": "stderr",
          "text": [
            "/usr/local/lib/python3.7/dist-packages/torch/nn/functional.py:718: UserWarning: Named tensors and all their associated APIs are an experimental feature and subject to change. Please do not use them for anything important until they are released as stable. (Triggered internally at  /pytorch/c10/core/TensorImpl.h:1156.)\n",
            "  return torch.max_pool2d(input, kernel_size, stride, padding, dilation, ceil_mode)\n"
          ]
        },
        {
          "output_type": "stream",
          "name": "stdout",
          "text": [
            "Epoch: 0, Iteration: 0, loss = 1.7948\n",
            "Got 112 / 1000 correct (11.20)\n",
            "\n",
            "Epoch: 0, Iteration: 100, loss = 1.5564\n",
            "Got 525 / 1000 correct (52.50)\n",
            "\n",
            "Epoch: 0, Iteration: 200, loss = 1.2112\n",
            "Got 525 / 1000 correct (52.50)\n",
            "\n",
            "Epoch: 0, Iteration: 300, loss = 1.5298\n",
            "Got 525 / 1000 correct (52.50)\n",
            "\n",
            "Epoch: 0, Iteration: 400, loss = 1.4214\n",
            "Got 525 / 1000 correct (52.50)\n",
            "\n",
            "Epoch: 0, Iteration: 500, loss = 1.2738\n",
            "Got 529 / 1000 correct (52.90)\n",
            "\n",
            "Epoch: 0, Iteration: 600, loss = 1.2430\n",
            "Got 528 / 1000 correct (52.80)\n",
            "\n",
            "Epoch: 0, Iteration: 700, loss = 1.3747\n",
            "Got 525 / 1000 correct (52.50)\n",
            "\n",
            "Epoch: 1, Iteration: 800, loss = 1.2757\n",
            "Got 527 / 1000 correct (52.70)\n",
            "\n",
            "Epoch: 1, Iteration: 900, loss = 1.2561\n",
            "Got 535 / 1000 correct (53.50)\n",
            "\n",
            "Epoch: 1, Iteration: 1000, loss = 1.1294\n",
            "Got 538 / 1000 correct (53.80)\n",
            "\n",
            "Epoch: 1, Iteration: 1100, loss = 1.0852\n",
            "Got 539 / 1000 correct (53.90)\n",
            "\n",
            "Epoch: 1, Iteration: 1200, loss = 1.2297\n",
            "Got 548 / 1000 correct (54.80)\n",
            "\n",
            "Epoch: 1, Iteration: 1300, loss = 1.2933\n",
            "Got 551 / 1000 correct (55.10)\n",
            "\n",
            "Epoch: 1, Iteration: 1400, loss = 1.2680\n",
            "Got 560 / 1000 correct (56.00)\n",
            "\n",
            "Epoch: 1, Iteration: 1500, loss = 1.3220\n",
            "Got 559 / 1000 correct (55.90)\n",
            "\n",
            "Epoch: 2, Iteration: 1600, loss = 1.1201\n",
            "Got 568 / 1000 correct (56.80)\n",
            "\n",
            "Epoch: 2, Iteration: 1700, loss = 1.1631\n",
            "Got 543 / 1000 correct (54.30)\n",
            "\n",
            "Epoch: 2, Iteration: 1800, loss = 1.3638\n",
            "Got 574 / 1000 correct (57.40)\n",
            "\n",
            "Epoch: 2, Iteration: 1900, loss = 1.2150\n",
            "Got 569 / 1000 correct (56.90)\n",
            "\n",
            "Epoch: 2, Iteration: 2000, loss = 1.1250\n",
            "Got 587 / 1000 correct (58.70)\n",
            "\n",
            "Epoch: 2, Iteration: 2100, loss = 1.2011\n",
            "Got 578 / 1000 correct (57.80)\n",
            "\n",
            "Epoch: 2, Iteration: 2200, loss = 1.1937\n",
            "Got 587 / 1000 correct (58.70)\n",
            "\n",
            "Epoch: 3, Iteration: 2300, loss = 1.0852\n",
            "Got 586 / 1000 correct (58.60)\n",
            "\n",
            "Epoch: 3, Iteration: 2400, loss = 1.0275\n",
            "Got 580 / 1000 correct (58.00)\n",
            "\n",
            "Epoch: 3, Iteration: 2500, loss = 1.1125\n",
            "Got 594 / 1000 correct (59.40)\n",
            "\n",
            "Epoch: 3, Iteration: 2600, loss = 0.8430\n",
            "Got 582 / 1000 correct (58.20)\n",
            "\n",
            "Epoch: 3, Iteration: 2700, loss = 1.0270\n",
            "Got 608 / 1000 correct (60.80)\n",
            "\n",
            "Epoch: 3, Iteration: 2800, loss = 0.9484\n",
            "Got 577 / 1000 correct (57.70)\n",
            "\n",
            "Epoch: 3, Iteration: 2900, loss = 1.0713\n",
            "Got 608 / 1000 correct (60.80)\n",
            "\n",
            "Epoch: 3, Iteration: 3000, loss = 0.9347\n",
            "Got 606 / 1000 correct (60.60)\n",
            "\n",
            "Epoch: 4, Iteration: 3100, loss = 1.0716\n",
            "Got 606 / 1000 correct (60.60)\n",
            "\n",
            "Epoch: 4, Iteration: 3200, loss = 1.2389\n",
            "Got 607 / 1000 correct (60.70)\n",
            "\n",
            "Epoch: 4, Iteration: 3300, loss = 1.1594\n",
            "Got 609 / 1000 correct (60.90)\n",
            "\n",
            "Epoch: 4, Iteration: 3400, loss = 1.1093\n",
            "Got 589 / 1000 correct (58.90)\n",
            "\n",
            "Epoch: 4, Iteration: 3500, loss = 1.1042\n",
            "Got 611 / 1000 correct (61.10)\n",
            "\n",
            "Epoch: 4, Iteration: 3600, loss = 1.1891\n",
            "Got 604 / 1000 correct (60.40)\n",
            "\n",
            "Epoch: 4, Iteration: 3700, loss = 1.0005\n",
            "Got 600 / 1000 correct (60.00)\n",
            "\n",
            "Epoch: 4, Iteration: 3800, loss = 1.3109\n",
            "Got 610 / 1000 correct (61.00)\n",
            "\n",
            "Epoch: 4, Iteration: 3829, loss = 0.9861\n",
            "Got 601 / 1000 correct (60.10)\n",
            "\n"
          ]
        }
      ]
    },
    {
      "cell_type": "code",
      "metadata": {
        "colab": {
          "base_uri": "https://localhost:8080/",
          "height": 295
        },
        "id": "XrVU9WesIE8T",
        "outputId": "fc2576c4-17b5-47a1-8221-5719187359c8"
      },
      "source": [
        "import matplotlib.pyplot as plt\n",
        "plt.title('Val accuracies')\n",
        "plt.plot(iter_history, acc_history, '-o')\n",
        "plt.xlabel('iterations')\n",
        "plt.ylabel('accuracy')\n",
        "plt.show()\n"
      ],
      "execution_count": null,
      "outputs": [
        {
          "output_type": "display_data",
          "data": {
            "image/png": "[encoded data removed]",
            "text/plain": [
              "<Figure size 432x288 with 1 Axes>"
            ]
          },
          "metadata": {
            "needs_background": "light"
          }
        }
      ]
    },
    {
      "cell_type": "code",
      "metadata": {
        "colab": {
          "base_uri": "https://localhost:8080/",
          "height": 301
        },
        "id": "f4ynRHQ7TpiC",
        "outputId": "9b092ce0-3d97-4378-a8ca-f5ff34a225aa"
      },
      "source": [
        "import matplotlib.pyplot as plt\n",
        "import numpy as np\n",
        "\n",
        "data_loader = torch.utils.data.DataLoader(test_data, batch_size=1, shuffle=True)\n",
        "image, label = next(iter(data_loader))\n",
        "image = image.to(device=device, dtype=to_float)\n",
        "label = label.to(device=device, dtype=to_long).clamp(max=5)\n",
        "scores = model(image)\n",
        "_, pred = scores.max(1)\n",
        "print('Predict label is: ', pred)\n",
        "#to_pil_image = transforms.ToPILImage()\n",
        "#img = to_pil_image(image[0])\n",
        "img = image[0].cpu().numpy().transpose(1,2,0)\n",
        "mean = [0.5]\n",
        "std = [0.5]\n",
        "img = img * std + mean\n",
        "#plt.figure(figsize=(1, 1))\n",
        "plt.imshow(img)\n",
        "print('Real lable is: ', label)\n",
        "\n",
        "#x_test = x_test.to(device=device, dtype=to_float)\n",
        "#y_test = "
      ],
      "execution_count": null,
      "outputs": [
        {
          "output_type": "stream",
          "name": "stdout",
          "text": [
            "Predict label is:  tensor([4])\n",
            "Real lable is:  tensor([3])\n"
          ]
        },
        {
          "output_type": "display_data",
          "data": {
            "image/png": "[encoded data removed]",
            "text/plain": [
              "<Figure size 432x288 with 1 Axes>"
            ]
          },
          "metadata": {
            "needs_background": "light"
          }
        }
      ]
    }
  ]
}